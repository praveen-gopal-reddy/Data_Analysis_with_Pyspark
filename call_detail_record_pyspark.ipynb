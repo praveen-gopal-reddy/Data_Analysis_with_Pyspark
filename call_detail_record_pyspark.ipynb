{
 "cells": [
  {
   "cell_type": "code",
   "execution_count": 3,
   "id": "644daa8d",
   "metadata": {},
   "outputs": [],
   "source": [
    "import findspark\n",
    "findspark.init()"
   ]
  },
  {
   "cell_type": "code",
   "execution_count": 4,
   "id": "0909843c",
   "metadata": {},
   "outputs": [
    {
     "name": "stdout",
     "output_type": "stream",
     "text": [
      "PATH: C:\\Users\\Lenovo\\anaconda3;C:\\Users\\Lenovo\\anaconda3\\Library\\mingw-w64\\bin;C:\\Users\\Lenovo\\anaconda3\\Library\\usr\\bin;C:\\Users\\Lenovo\\anaconda3\\Library\\bin;C:\\Users\\Lenovo\\anaconda3\\Scripts;C:\\Program Files (x86)\\Common Files\\Oracle\\Java\\javapath;C:\\Python;C:\\Python\\Scripts;C:\\WINDOWS\\system32;C:\\WINDOWS;C:\\WINDOWS\\System32\\Wbem;C:\\WINDOWS\\System32\\WindowsPowerShell\\v1.0\\;C:\\WINDOWS\\System32\\OpenSSH\\;C:\\Program Files\\Docker\\Docker\\resources\\bin;C:\\ProgramData\\DockerDesktop\\version-bin;C:\\spark\\spark-3.1.2-bin-hadoop2.7\\bin;C:\\Program Files\\Java\\jre1.8.0_301\\bin;C:\\Program Files\\Git\\cmd;C:\\Users\\Lenovo\\AppData\\Local\\Microsoft\\WindowsApps;C:\\Program Files\\JetBrains\\PyCharm Community Edition 2021.2\\bin;;\n",
      "\n",
      "SPARK_HOME: C:\\spark\\spark-3.1.2-bin-hadoop2.7\n"
     ]
    }
   ],
   "source": [
    "import os\n",
    "print(\"PATH: %s\\n\" % os.environ['PATH'])\n",
    "print(\"SPARK_HOME: %s\" % os.environ['SPARK_HOME'])"
   ]
  },
  {
   "cell_type": "code",
   "execution_count": 5,
   "id": "2af70727",
   "metadata": {},
   "outputs": [],
   "source": [
    "from pyspark.sql import SparkSession\n",
    "from pyspark.sql.functions import col\n",
    "spark = SparkSession \\\n",
    "        .builder \\\n",
    "        .appName(\"PySparkAnalysis\") \\\n",
    "        .getOrCreate()"
   ]
  },
  {
   "cell_type": "markdown",
   "id": "88c05dea",
   "metadata": {},
   "source": [
    "### load the sms_call_internet file"
   ]
  },
  {
   "cell_type": "code",
   "execution_count": 8,
   "id": "1914c31a",
   "metadata": {},
   "outputs": [],
   "source": [
    "file1 = spark.read.load(\"/Users/Lenovo/Documents/pravin\",\n",
    "                    format='csv',\n",
    "                    sep = ',',\n",
    "                    header='true',\n",
    "                    inferSchema='true').cache()"
   ]
  },
  {
   "cell_type": "code",
   "execution_count": 9,
   "id": "1457852f",
   "metadata": {},
   "outputs": [
    {
     "name": "stdout",
     "output_type": "stream",
     "text": [
      "+-------------------+------+-----------+------+------+------+-------+--------+\n",
      "|           datetime|CellID|countrycode| smsin|smsout|callin|callout|internet|\n",
      "+-------------------+------+-----------+------+------+------+-------+--------+\n",
      "|2013-11-01 00:00:00|     1|          0|0.3521|  null|  null| 0.0273|    null|\n",
      "|2013-11-01 00:00:00|     1|         33|  null|  null|  null|   null|  0.0261|\n",
      "|2013-11-01 00:00:00|     1|         39|1.7322|1.1047|0.5919|  0.402| 57.7729|\n",
      "|2013-11-01 00:00:00|     2|          0|0.3581|  null|  null| 0.0273|    null|\n",
      "|2013-11-01 00:00:00|     2|         33|  null|  null|  null|   null|  0.0274|\n",
      "+-------------------+------+-----------+------+------+------+-------+--------+\n",
      "only showing top 5 rows\n",
      "\n"
     ]
    }
   ],
   "source": [
    "file1.show(5)"
   ]
  },
  {
   "cell_type": "markdown",
   "id": "5dedb819",
   "metadata": {},
   "source": [
    "### there are many null values lets replace with zero"
   ]
  },
  {
   "cell_type": "code",
   "execution_count": 10,
   "id": "4e5530e9",
   "metadata": {},
   "outputs": [
    {
     "name": "stdout",
     "output_type": "stream",
     "text": [
      "+-------------------+------+-----------+------+------+------+-------+--------+\n",
      "|           datetime|CellID|countrycode| smsin|smsout|callin|callout|internet|\n",
      "+-------------------+------+-----------+------+------+------+-------+--------+\n",
      "|2013-11-01 00:00:00|     1|          0|0.3521|  null|  null| 0.0273|    null|\n",
      "|2013-11-01 00:00:00|     1|         33|  null|  null|  null|   null|  0.0261|\n",
      "|2013-11-01 00:00:00|     1|         39|1.7322|1.1047|0.5919|  0.402| 57.7729|\n",
      "|2013-11-01 00:00:00|     2|          0|0.3581|  null|  null| 0.0273|    null|\n",
      "|2013-11-01 00:00:00|     2|         33|  null|  null|  null|   null|  0.0274|\n",
      "+-------------------+------+-----------+------+------+------+-------+--------+\n",
      "only showing top 5 rows\n",
      "\n"
     ]
    }
   ],
   "source": [
    "file1 = file1.na.fill(0)\n",
    "file1.show(5)"
   ]
  },
  {
   "cell_type": "markdown",
   "id": "376ea741",
   "metadata": {},
   "source": [
    "### create temp view in spark so that we can query data with spark sql"
   ]
  },
  {
   "cell_type": "code",
   "execution_count": 11,
   "id": "a9e8530e",
   "metadata": {},
   "outputs": [],
   "source": [
    "file1.createOrReplaceTempView(\"calldetailrecord\")"
   ]
  },
  {
   "cell_type": "code",
   "execution_count": 15,
   "id": "f91f64cd",
   "metadata": {},
   "outputs": [
    {
     "name": "stdout",
     "output_type": "stream",
     "text": [
      "+--------+----------------+-----------+\n",
      "|database|       tableName|isTemporary|\n",
      "+--------+----------------+-----------+\n",
      "|        |calldetailrecord|       true|\n",
      "+--------+----------------+-----------+\n",
      "\n"
     ]
    }
   ],
   "source": [
    "###check table created or not\n",
    "spark.sql(\"show tables\").show()"
   ]
  },
  {
   "cell_type": "code",
   "execution_count": 27,
   "id": "12a67d88",
   "metadata": {},
   "outputs": [
    {
     "name": "stdout",
     "output_type": "stream",
     "text": [
      "+-------------------+------+-----------+------+------+------+-------+--------+\n",
      "|           datetime|CellID|countrycode| smsin|smsout|callin|callout|internet|\n",
      "+-------------------+------+-----------+------+------+------+-------+--------+\n",
      "|2013-11-01 00:00:00|     1|          0|0.3521|  null|  null| 0.0273|    null|\n",
      "|2013-11-01 00:00:00|     1|         33|  null|  null|  null|   null|  0.0261|\n",
      "|2013-11-01 00:00:00|     1|         39|1.7322|1.1047|0.5919|  0.402| 57.7729|\n",
      "|2013-11-01 00:00:00|     2|          0|0.3581|  null|  null| 0.0273|    null|\n",
      "|2013-11-01 00:00:00|     2|         33|  null|  null|  null|   null|  0.0274|\n",
      "+-------------------+------+-----------+------+------+------+-------+--------+\n",
      "only showing top 5 rows\n",
      "\n"
     ]
    }
   ],
   "source": [
    "tt=spark.sql(''' select * from calldetailrecord''').show(5)"
   ]
  },
  {
   "cell_type": "markdown",
   "id": "8622e20f",
   "metadata": {},
   "source": [
    "### calculate the sum of activity of sms,calls and internet usage for a group of countries."
   ]
  },
  {
   "cell_type": "code",
   "execution_count": 14,
   "id": "b2b2ca5a",
   "metadata": {},
   "outputs": [],
   "source": [
    "groupbycountry = spark.sql(\"\"\"select \n",
    "                                CASE countrycode\n",
    "                                    WHEN 7 THEN \"Russia\"\n",
    "                                    WHEN 33 THEN \"France\"\n",
    "                                    WHEN 34 THEN \"Spain\"\n",
    "                                    WHEN 39 THEN \"Italy\"\n",
    "                                    WHEN 44 THEN \"United Kingdom\"\n",
    "                                    WHEN 47 THEN \"Norway\"\n",
    "                                    WHEN 48 THEN \"Poland\"\n",
    "                                    WHEN 49 THEN \"Germany\"\n",
    "                                    WHEN 351 THEN \"Portugal\"\n",
    "                                    WHEN 420 THEN \"Czech Republic\"\n",
    "                                    ELSE \"_Others_\"\n",
    "                                END as country,\n",
    "                                round(sum(smsin),6) sms_in, \n",
    "                                round(sum(smsout),6) sms_out, \n",
    "                                round(sum(callin),6) call_in, \n",
    "                                round(sum(callout),6) call_out, \n",
    "                                round(sum(internet),6) internet\n",
    "                            from calldetailrecord\n",
    "                            where countrycode != 0\n",
    "                            group by country\n",
    "                            order by 1\n",
    "                            \"\"\")"
   ]
  },
  {
   "cell_type": "code",
   "execution_count": 26,
   "id": "bfbbd321",
   "metadata": {},
   "outputs": [
    {
     "name": "stdout",
     "output_type": "stream",
     "text": [
      "+--------------+------------+------------+------------+------------+---------------+\n",
      "|       country|      sms_in|     sms_out|     call_in|    call_out|       internet|\n",
      "+--------------+------------+------------+------------+------------+---------------+\n",
      "|Czech Republic|   2608.1169|   1437.8024|    733.0263|    544.2075|      5488.8842|\n",
      "|        France|  20495.0177|  13158.3234|    4527.906|   2984.4441|     36769.9342|\n",
      "|       Germany|   9549.2932|   2747.5518|   1960.2404|   1396.1923|     23737.9411|\n",
      "|         Italy|2889250.3153|2688729.4971|2560497.8263|2962224.2957|8.22452086458E7|\n",
      "|        Norway|    745.8405|    535.5974|    190.2444|    149.5543|       1913.018|\n",
      "+--------------+------------+------------+------------+------------+---------------+\n",
      "only showing top 5 rows\n",
      "\n"
     ]
    }
   ],
   "source": [
    "groupbycountry.show(5)"
   ]
  },
  {
   "cell_type": "markdown",
   "id": "8cd07d7b",
   "metadata": {},
   "source": [
    "### filter rows using filter method "
   ]
  },
  {
   "cell_type": "code",
   "execution_count": 25,
   "id": "b41d3c1d",
   "metadata": {},
   "outputs": [
    {
     "name": "stdout",
     "output_type": "stream",
     "text": [
      "+-------------------+------+-----------+------+------+------+-------+--------+\n",
      "|           datetime|CellID|countrycode| smsin|smsout|callin|callout|internet|\n",
      "+-------------------+------+-----------+------+------+------+-------+--------+\n",
      "|2013-11-01 00:00:00|     1|          0|0.3521|  null|  null| 0.0273|    null|\n",
      "|2013-11-01 00:00:00|     2|          0|0.3581|  null|  null| 0.0273|    null|\n",
      "|2013-11-01 00:00:00|     3|          0|0.3644|  null|  null| 0.0273|    null|\n",
      "+-------------------+------+-----------+------+------+------+-------+--------+\n",
      "only showing top 3 rows\n",
      "\n",
      "None\n"
     ]
    }
   ],
   "source": [
    "#filter rows where countr code is 0\n",
    "filter1= file1.filter(file1.countrycode==0)\n",
    "print(filter1.show(3))"
   ]
  },
  {
   "cell_type": "markdown",
   "id": "2d1dc276",
   "metadata": {},
   "source": [
    "### group by cell id and count"
   ]
  },
  {
   "cell_type": "code",
   "execution_count": 30,
   "id": "2d1cf9a7",
   "metadata": {},
   "outputs": [
    {
     "name": "stdout",
     "output_type": "stream",
     "text": [
      "+------+-----+\n",
      "|CellID|count|\n",
      "+------+-----+\n",
      "|   296|  186|\n",
      "|   467|   83|\n",
      "|   675|   85|\n",
      "|   691|  149|\n",
      "|   829|   92|\n",
      "+------+-----+\n",
      "only showing top 5 rows\n",
      "\n",
      "None\n"
     ]
    }
   ],
   "source": [
    "aggre= file1.groupBy('CellID')\n",
    "print(aggre.count().show(5))"
   ]
  },
  {
   "cell_type": "markdown",
   "id": "ba9dc0cd",
   "metadata": {},
   "source": [
    "### visualization "
   ]
  },
  {
   "cell_type": "code",
   "execution_count": 31,
   "id": "9a203fd3",
   "metadata": {},
   "outputs": [],
   "source": [
    "import matplotlib.pyplot as plt"
   ]
  },
  {
   "cell_type": "code",
   "execution_count": 32,
   "id": "8f85896b",
   "metadata": {},
   "outputs": [
    {
     "name": "stdout",
     "output_type": "stream",
     "text": [
      "          country      sms_in     sms_out    call_in   call_out    internet\n",
      "0  Czech Republic   2608.1169   1437.8024   733.0263   544.2075   5488.8842\n",
      "1          France  20495.0177  13158.3234  4527.9060  2984.4441  36769.9342\n",
      "2         Germany   9549.2932   2747.5518  1960.2404  1396.1923  23737.9411\n",
      "3          Norway    745.8405    535.5974   190.2444   149.5543   1913.0180\n",
      "4          Poland   3821.9876   1852.1156  1176.1172   861.9467   3879.9327\n",
      "5        Portugal    616.0036    358.1073   288.9737   128.8219    459.4812\n",
      "6          Russia   8983.6104   6108.6568  4682.9862  1710.7480   5509.7652\n",
      "7           Spain   2301.3214   1428.7563  2178.4545  1665.4606  11389.0908\n",
      "8  United Kingdom  11509.6936  11603.9780  3756.9092  2954.2486  23588.0875\n"
     ]
    }
   ],
   "source": [
    "#filter rows where country not in italy and others and convert spark data frame into pandas\n",
    "df_pandas = groupbycountry.where(\"country not in ('Italy','_Others_')\").toPandas()\n",
    "print(df_pandas)"
   ]
  },
  {
   "cell_type": "code",
   "execution_count": 33,
   "id": "d78114cd",
   "metadata": {},
   "outputs": [
    {
     "data": {
      "text/plain": [
       "<AxesSubplot:ylabel='country'>"
      ]
     },
     "execution_count": 33,
     "metadata": {},
     "output_type": "execute_result"
    },
    {
     "data": {
      "image/png": "[encoded data removed]",
      "text/plain": [
       "<Figure size 432x288 with 1 Axes>"
      ]
     },
     "metadata": {
      "needs_background": "light"
     },
     "output_type": "display_data"
    },
    {
     "data": {
      "image/png": "[encoded data removed]",
      "text/plain": [
       "<Figure size 432x288 with 1 Axes>"
      ]
     },
     "metadata": {
      "needs_background": "light"
     },
     "output_type": "display_data"
    },
    {
     "data": {
      "image/png": "[encoded data removed]",
      "text/plain": [
       "<Figure size 432x288 with 1 Axes>"
      ]
     },
     "metadata": {
      "needs_background": "light"
     },
     "output_type": "display_data"
    }
   ],
   "source": [
    "# plot country versus service activity \n",
    "df_pandas.plot(kind='barh', x='country', y=['sms_in', 'sms_out'], colormap='tab20b')\n",
    "df_pandas.plot(kind='barh', x='country', y=['call_in', 'call_out'], colormap='tab10')\n",
    "df_pandas.plot(kind='barh', x='country', y=['internet'], colormap='summer')"
   ]
  },
  {
   "cell_type": "code",
   "execution_count": null,
   "id": "80ae5452",
   "metadata": {},
   "outputs": [],
   "source": []
  }
 ],
 "metadata": {
  "kernelspec": {
   "display_name": "Python 3",
   "language": "python",
   "name": "python3"
  },
  "language_info": {
   "codemirror_mode": {
    "name": "ipython",
    "version": 3
   },
   "file_extension": ".py",
   "mimetype": "text/x-python",
   "name": "python",
   "nbconvert_exporter": "python",
   "pygments_lexer": "ipython3",
   "version": "3.8.8"
  }
 },
 "nbformat": 4,
 "nbformat_minor": 5
}
