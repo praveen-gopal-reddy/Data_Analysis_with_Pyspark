{
 "cells": [
  {
   "cell_type": "markdown",
   "metadata": {
    "id": "jPyDpDqvZuLo"
   },
   "source": [
    "# **Welcome to the Notebook**"
   ]
  },
  {
   "cell_type": "markdown",
   "metadata": {
    "id": "F2YNhXuUwGNl"
   },
   "source": [
    "### Let's mount the google drive "
   ]
  },
  {
   "cell_type": "code",
   "execution_count": null,
   "metadata": {
    "colab": {
     "base_uri": "https://localhost:8080/"
    },
    "id": "MmQC7J5cvkzE",
    "outputId": "3cec5e6e-9b19-442e-a776-685fcba54726"
   },
   "outputs": [
    {
     "name": "stdout",
     "output_type": "stream",
     "text": [
      "Mounted at /content/drive\n"
     ]
    }
   ],
   "source": [
    "from google.colab import drive\n",
    "drive.mount('/content/drive')"
   ]
  },
  {
   "cell_type": "markdown",
   "metadata": {
    "id": "cs9EInKyWicZ"
   },
   "source": [
    "# Task 1 : \n",
    "Installing pyspark module"
   ]
  },
  {
   "cell_type": "code",
   "execution_count": null,
   "metadata": {
    "colab": {
     "base_uri": "https://localhost:8080/"
    },
    "id": "LJq2nzUKWujx",
    "outputId": "2444664a-feda-439d-c89a-a7dd35ea8b36"
   },
   "outputs": [
    {
     "name": "stdout",
     "output_type": "stream",
     "text": [
      "Collecting pyspark\n",
      "\u001b[?25l  Downloading https://files.pythonhosted.org/packages/89/db/e18cfd78e408de957821ec5ca56de1250645b05f8523d169803d8df35a64/pyspark-3.1.2.tar.gz (212.4MB)\n",
      "\u001b[K     |████████████████████████████████| 212.4MB 66kB/s \n",
      "\u001b[?25hCollecting py4j==0.10.9\n",
      "\u001b[?25l  Downloading https://files.pythonhosted.org/packages/9e/b6/6a4fb90cd235dc8e265a6a2067f2a2c99f0d91787f06aca4bcf7c23f3f80/py4j-0.10.9-py2.py3-none-any.whl (198kB)\n",
      "\u001b[K     |████████████████████████████████| 204kB 17.2MB/s \n",
      "\u001b[?25hBuilding wheels for collected packages: pyspark\n",
      "  Building wheel for pyspark (setup.py) ... \u001b[?25l\u001b[?25hdone\n",
      "  Created wheel for pyspark: filename=pyspark-3.1.2-py2.py3-none-any.whl size=212880768 sha256=4cdc6cf0f46e3488b3438d45de977c25ef105c9db767958c313d513623b7cd5d\n",
      "  Stored in directory: /root/.cache/pip/wheels/40/1b/2c/30f43be2627857ab80062bef1527c0128f7b4070b6b2d02139\n",
      "Successfully built pyspark\n",
      "Installing collected packages: py4j, pyspark\n",
      "Successfully installed py4j-0.10.9 pyspark-3.1.2\n"
     ]
    }
   ],
   "source": [
    "!pip install pyspark"
   ]
  },
  {
   "cell_type": "markdown",
   "metadata": {
    "id": "dVNAlw2jWiWb"
   },
   "source": [
    "Importing the modules "
   ]
  },
  {
   "cell_type": "code",
   "execution_count": null,
   "metadata": {
    "id": "gS3YIWJiW7I3"
   },
   "outputs": [],
   "source": [
    "from pyspark.sql import SparkSession\n",
    "from pyspark.sql.functions import count, desc , col, max ,struct\n",
    "import matplotlib.pyplot as plts"
   ]
  },
  {
   "cell_type": "markdown",
   "metadata": {
    "id": "RKuIUYLwSkNP"
   },
   "source": [
    "creating spark session"
   ]
  },
  {
   "cell_type": "markdown",
   "metadata": {
    "id": "vv_SKqr8T9mT"
   },
   "source": [
    "# Task 2 : \n",
    "importing the *Listenings.csv* file: "
   ]
  },
  {
   "cell_type": "code",
   "execution_count": null,
   "metadata": {
    "id": "gK22lJDRTuKY"
   },
   "outputs": [],
   "source": [
    "spark=SparkSession.builder.appName(\"spark_app\").getOrCreate()"
   ]
  },
  {
   "cell_type": "markdown",
   "metadata": {
    "id": "s1i6KVshykdn"
   },
   "source": [
    "let's check the data:"
   ]
  },
  {
   "cell_type": "code",
   "execution_count": null,
   "metadata": {
    "id": "5Ji0zViUyjUE"
   },
   "outputs": [],
   "source": [
    "listening_csv_path='/content/drive/MyDrive/dataset/listenings.csv'\n",
    "listening_df=spark.read.format('csv').option('inferSchema',True).option('header',True).load(listening_csv_path)"
   ]
  },
  {
   "cell_type": "code",
   "execution_count": null,
   "metadata": {
    "colab": {
     "base_uri": "https://localhost:8080/"
    },
    "id": "bPQcnGvtO2fA",
    "outputId": "78ce6e10-915c-4d99-d8e9-25089aadae8b"
   },
   "outputs": [
    {
     "name": "stdout",
     "output_type": "stream",
     "text": [
      "+-----------+-------------+--------------------+---------------+--------------------+\n",
      "|    user_id|         date|               track|         artist|               album|\n",
      "+-----------+-------------+--------------------+---------------+--------------------+\n",
      "|000Silenced|1299680100000|           Price Tag|       Jessie J|         Who You Are|\n",
      "|000Silenced|1299679920000|Price Tag (Acoust...|       Jessie J|           Price Tag|\n",
      "|000Silenced|1299679440000|Be Mine! (Ballad ...|          Robyn|            Be Mine!|\n",
      "|000Silenced|1299679200000|            Acapella|          Kelis|            Acapella|\n",
      "|000Silenced|1299675660000|   I'm Not Invisible|      The Tease|   I'm Not Invisible|\n",
      "|000Silenced|1297511400000|Bounce (Feat NORE...|       MSTRKRFT|         Fist of God|\n",
      "|000Silenced|1294498440000|Don't Stop The Mu...|        Rihanna|Addicted 2 Bassli...|\n",
      "|000Silenced|1292438340000|               ObZen|      Meshuggah|               ObZen|\n",
      "|000Silenced|1292437740000|   Yama's Messengers|         Gojira|The Way of All Flesh|\n",
      "|000Silenced|1292436360000|On the Brink of E...|   Napalm Death|Time Waits For No...|\n",
      "|000Silenced|1292436360000|On the Brink of E...|   Napalm Death|Time Waits For No...|\n",
      "|000Silenced|1292435940000|        In Deference|   Napalm Death|      Smear Campaign|\n",
      "|000Silenced|1292434920000|      Post(?)organic|    Decapitated|Organic Hallucinosis|\n",
      "|000Silenced|1292434560000|        Mind Feeders|   Dom & Roland| No Strings Attached|\n",
      "|000Silenced|1292434320000|Necrosadistic War...|Cannibal Corpse|                Kill|\n",
      "|000Silenced|1292365560000|     Dance All Night|   Dom & Roland|          Chronology|\n",
      "|000Silenced|1292365260000|          Late Night|   Dom & Roland|          Chronology|\n",
      "|000Silenced|1292365020000|          Freak Seen|   Dom & Roland|          Chronology|\n",
      "|000Silenced|1292364720000|Paradrenasite (Hi...|   Dom & Roland|          Chronology|\n",
      "|000Silenced|1292364300000|               Rhino|   Dom & Roland|          Chronology|\n",
      "+-----------+-------------+--------------------+---------------+--------------------+\n",
      "only showing top 20 rows\n",
      "\n"
     ]
    }
   ],
   "source": [
    "listening_df.show()"
   ]
  },
  {
   "cell_type": "markdown",
   "metadata": {
    "id": "HS6wd2d_woNC"
   },
   "source": [
    "let's delete useless columns:"
   ]
  },
  {
   "cell_type": "code",
   "execution_count": null,
   "metadata": {
    "id": "pIMzBAglwtNP"
   },
   "outputs": [],
   "source": [
    "listening_df=listening_df.drop('date')"
   ]
  },
  {
   "cell_type": "markdown",
   "metadata": {
    "id": "MwpJJeWa4qmn"
   },
   "source": [
    "drop the null rows:"
   ]
  },
  {
   "cell_type": "code",
   "execution_count": null,
   "metadata": {
    "id": "Botf6-Vb4uqs"
   },
   "outputs": [],
   "source": [
    "listening_df=listening_df.na.drop()"
   ]
  },
  {
   "cell_type": "markdown",
   "metadata": {
    "id": "tTN6jr3K4xkF"
   },
   "source": [
    "let's check the dataset again:"
   ]
  },
  {
   "cell_type": "code",
   "execution_count": null,
   "metadata": {
    "colab": {
     "base_uri": "https://localhost:8080/"
    },
    "id": "JDp_rdEY40u3",
    "outputId": "ca4b3b56-48a6-4345-ec13-ef888ab052cd"
   },
   "outputs": [
    {
     "name": "stdout",
     "output_type": "stream",
     "text": [
      "+-----------+--------------------+---------------+--------------------+\n",
      "|    user_id|               track|         artist|               album|\n",
      "+-----------+--------------------+---------------+--------------------+\n",
      "|000Silenced|           Price Tag|       Jessie J|         Who You Are|\n",
      "|000Silenced|Price Tag (Acoust...|       Jessie J|           Price Tag|\n",
      "|000Silenced|Be Mine! (Ballad ...|          Robyn|            Be Mine!|\n",
      "|000Silenced|            Acapella|          Kelis|            Acapella|\n",
      "|000Silenced|   I'm Not Invisible|      The Tease|   I'm Not Invisible|\n",
      "|000Silenced|Bounce (Feat NORE...|       MSTRKRFT|         Fist of God|\n",
      "|000Silenced|Don't Stop The Mu...|        Rihanna|Addicted 2 Bassli...|\n",
      "|000Silenced|               ObZen|      Meshuggah|               ObZen|\n",
      "|000Silenced|   Yama's Messengers|         Gojira|The Way of All Flesh|\n",
      "|000Silenced|On the Brink of E...|   Napalm Death|Time Waits For No...|\n",
      "|000Silenced|On the Brink of E...|   Napalm Death|Time Waits For No...|\n",
      "|000Silenced|        In Deference|   Napalm Death|      Smear Campaign|\n",
      "|000Silenced|      Post(?)organic|    Decapitated|Organic Hallucinosis|\n",
      "|000Silenced|        Mind Feeders|   Dom & Roland| No Strings Attached|\n",
      "|000Silenced|Necrosadistic War...|Cannibal Corpse|                Kill|\n",
      "|000Silenced|     Dance All Night|   Dom & Roland|          Chronology|\n",
      "|000Silenced|          Late Night|   Dom & Roland|          Chronology|\n",
      "|000Silenced|          Freak Seen|   Dom & Roland|          Chronology|\n",
      "|000Silenced|Paradrenasite (Hi...|   Dom & Roland|          Chronology|\n",
      "|000Silenced|               Rhino|   Dom & Roland|          Chronology|\n",
      "+-----------+--------------------+---------------+--------------------+\n",
      "only showing top 20 rows\n",
      "\n"
     ]
    }
   ],
   "source": [
    "listening_df.show()"
   ]
  },
  {
   "cell_type": "markdown",
   "metadata": {
    "id": "Z7nKCYoZltnv"
   },
   "source": [
    "let's see the schema: "
   ]
  },
  {
   "cell_type": "code",
   "execution_count": null,
   "metadata": {
    "colab": {
     "base_uri": "https://localhost:8080/"
    },
    "id": "qVg1jt1OyWdh",
    "outputId": "a50021ab-7acc-4b34-8a0b-1b0418b09207"
   },
   "outputs": [
    {
     "name": "stdout",
     "output_type": "stream",
     "text": [
      "root\n",
      " |-- user_id: string (nullable = true)\n",
      " |-- track: string (nullable = true)\n",
      " |-- artist: string (nullable = true)\n",
      " |-- album: string (nullable = true)\n",
      "\n"
     ]
    }
   ],
   "source": [
    "listening_df.printSchema()"
   ]
  },
  {
   "cell_type": "markdown",
   "metadata": {
    "id": "JMkQsQt2xSb5"
   },
   "source": [
    "let's see the shape of our dataframe: "
   ]
  },
  {
   "cell_type": "code",
   "execution_count": null,
   "metadata": {
    "colab": {
     "base_uri": "https://localhost:8080/"
    },
    "id": "6POkV3YFmh6b",
    "outputId": "6ca6ee49-d8a2-4c47-af0d-ce619d0e2783"
   },
   "outputs": [
    {
     "name": "stdout",
     "output_type": "stream",
     "text": [
      "(13758905, 4)\n"
     ]
    }
   ],
   "source": [
    "shape=(listening_df.count(),len(listening_df.columns))\n",
    "print(shape)"
   ]
  },
  {
   "cell_type": "markdown",
   "metadata": {
    "id": "XMD0DhFl2FEJ"
   },
   "source": [
    "# Task 3:\n",
    "\n",
    "**Query #0:**\n",
    "select two columns: track and artist"
   ]
  },
  {
   "cell_type": "code",
   "execution_count": null,
   "metadata": {
    "colab": {
     "base_uri": "https://localhost:8080/"
    },
    "id": "FZTdA5wn2TZy",
    "outputId": "3cc9b710-3dca-4041-aaf1-4abf0478601c"
   },
   "outputs": [
    {
     "name": "stdout",
     "output_type": "stream",
     "text": [
      "+---------------+--------------------+\n",
      "|         artist|               track|\n",
      "+---------------+--------------------+\n",
      "|       Jessie J|           Price Tag|\n",
      "|       Jessie J|Price Tag (Acoust...|\n",
      "|          Robyn|Be Mine! (Ballad ...|\n",
      "|          Kelis|            Acapella|\n",
      "|      The Tease|   I'm Not Invisible|\n",
      "|       MSTRKRFT|Bounce (Feat NORE...|\n",
      "|        Rihanna|Don't Stop The Mu...|\n",
      "|      Meshuggah|               ObZen|\n",
      "|         Gojira|   Yama's Messengers|\n",
      "|   Napalm Death|On the Brink of E...|\n",
      "|   Napalm Death|On the Brink of E...|\n",
      "|   Napalm Death|        In Deference|\n",
      "|    Decapitated|      Post(?)organic|\n",
      "|   Dom & Roland|        Mind Feeders|\n",
      "|Cannibal Corpse|Necrosadistic War...|\n",
      "|   Dom & Roland|     Dance All Night|\n",
      "|   Dom & Roland|          Late Night|\n",
      "|   Dom & Roland|          Freak Seen|\n",
      "|   Dom & Roland|Paradrenasite (Hi...|\n",
      "|   Dom & Roland|               Rhino|\n",
      "+---------------+--------------------+\n",
      "only showing top 20 rows\n",
      "\n"
     ]
    }
   ],
   "source": [
    "q0=listening_df.select('artist','track')\n",
    "q0.show()"
   ]
  },
  {
   "cell_type": "markdown",
   "metadata": {
    "id": "QRcgXOFs2hjw"
   },
   "source": [
    "**Query #1**:\n",
    "\n",
    "Let's find all of the records of those users who have listened to ***Rihanna***"
   ]
  },
  {
   "cell_type": "code",
   "execution_count": null,
   "metadata": {
    "colab": {
     "base_uri": "https://localhost:8080/"
    },
    "id": "ICyiTMVnppLw",
    "outputId": "1d58abad-dbb0-4697-91c7-56e299f73eae"
   },
   "outputs": [
    {
     "name": "stdout",
     "output_type": "stream",
     "text": [
      "+-----------+--------------------+-------+--------------------+\n",
      "|    user_id|               track| artist|               album|\n",
      "+-----------+--------------------+-------+--------------------+\n",
      "|000Silenced|Don't Stop The Mu...|Rihanna|Addicted 2 Bassli...|\n",
      "|000Silenced|           Disturbia|Rihanna|Good Girl Gone Ba...|\n",
      "|00williamsl|   Hatin On The Club|Rihanna|              Random|\n",
      "|00williamsl|   Hatin On The Club|Rihanna|              Random|\n",
      "|00williamsl|         Complicated|Rihanna|                Loud|\n",
      "|00williamsl|What's My Name (f...|Rihanna|                Loud|\n",
      "|00williamsl|Kanye West feat R...|Rihanna|                Loud|\n",
      "|    0502008|Only Girl (In the...|Rihanna|                Loud|\n",
      "|      0rdos|Pon De Replay (Re...|Rihanna|    Music of the Sun|\n",
      "|      0rdos|          Now I Know|Rihanna|    Music of the Sun|\n",
      "|      0rdos|There's a Thug in...|Rihanna|    Music of the Sun|\n",
      "|      0rdos|                Rush|Rihanna|    Music of the Sun|\n",
      "|      0rdos|              Let Me|Rihanna|    Music of the Sun|\n",
      "|      0rdos|    Music of the Sun|Rihanna|    Music of the Sun|\n",
      "|      0rdos|     Willing to Wait|Rihanna|    Music of the Sun|\n",
      "|      0rdos|       The Last Time|Rihanna|    Music of the Sun|\n",
      "|      0rdos|If It's Lovin' Th...|Rihanna|    Music of the Sun|\n",
      "|      0rdos|     Here I Go Again|Rihanna|    Music of the Sun|\n",
      "|      0rdos|       Pon de Replay|Rihanna|    Music of the Sun|\n",
      "|      0rdos|                 Cry|Rihanna|  Good Girl Gone Bad|\n",
      "+-----------+--------------------+-------+--------------------+\n",
      "only showing top 20 rows\n",
      "\n"
     ]
    }
   ],
   "source": [
    "q1=listening_df.select('*').filter(listening_df.artist == 'Rihanna')\n",
    "q1.show()"
   ]
  },
  {
   "cell_type": "markdown",
   "metadata": {
    "id": "I0IafeyvFU9O"
   },
   "source": [
    "**Query #2:**\n",
    "\n",
    "Let's find top 10 users who are fan of ***Rihanna***"
   ]
  },
  {
   "cell_type": "code",
   "execution_count": null,
   "metadata": {
    "colab": {
     "base_uri": "https://localhost:8080/"
    },
    "id": "3-hM9kMm7JmI",
    "outputId": "df1d78a7-1f37-4abd-8fa2-43f73c345b50"
   },
   "outputs": [
    {
     "name": "stdout",
     "output_type": "stream",
     "text": [
      "+---------------+-----+\n",
      "|        user_id|count|\n",
      "+---------------+-----+\n",
      "|        thiessu|  179|\n",
      "|    eyessetkyle|  166|\n",
      "|           adxx|  164|\n",
      "|missnumberthree|  156|\n",
      "|helloiamnatalie|  128|\n",
      "|          nmjnb|  124|\n",
      "|        AndyyyA|  123|\n",
      "|     BIGBANG186|  121|\n",
      "|     mixedvibes|  120|\n",
      "|       AndyKitt|  115|\n",
      "+---------------+-----+\n",
      "\n"
     ]
    }
   ],
   "source": [
    "q2=listening_df.select('user_id').filter(listening_df.artist=='Rihanna').groupby('user_id').agg(count('user_id').alias('count')).orderBy(desc('count')).limit(10)\n",
    "q2.show()"
   ]
  },
  {
   "cell_type": "markdown",
   "metadata": {
    "id": "hgAAl6aAcp41"
   },
   "source": [
    "**Query #3:**\n",
    "\n",
    "find top 10 famous tracks "
   ]
  },
  {
   "cell_type": "code",
   "execution_count": null,
   "metadata": {
    "colab": {
     "base_uri": "https://localhost:8080/"
    },
    "id": "qlh3IUzfJ3_I",
    "outputId": "df329867-9e56-4e0d-b3d6-924ceaef5e0c"
   },
   "outputs": [
    {
     "name": "stdout",
     "output_type": "stream",
     "text": [
      "+--------------+-----------------+-----+\n",
      "|        artist|            track|count|\n",
      "+--------------+-----------------+-----+\n",
      "| Justin Bieber|            Sorry| 3381|\n",
      "|Arctic Monkeys| Do I Wanna Know?| 2865|\n",
      "|      Bon Iver|      Skinny Love| 2836|\n",
      "|          Zayn|       PILLOWTALK| 2701|\n",
      "|   The Killers|    Mr Brightside| 2690|\n",
      "|       Rihanna|             Work| 2646|\n",
      "|      Bastille|          Pompeii| 2606|\n",
      "|Mumford & Sons|  Little Lion Man| 2520|\n",
      "|Mumford & Sons|         The Cave| 2485|\n",
      "| Justin Bieber|What Do You Mean?| 2481|\n",
      "+--------------+-----------------+-----+\n",
      "\n"
     ]
    }
   ],
   "source": [
    "q3=listening_df.select('artist','track').groupby('artist','track').agg(count('*').alias('count')).orderBy(desc('count')).limit(10)\n",
    "q3.show()"
   ]
  },
  {
   "cell_type": "markdown",
   "metadata": {
    "id": "HqhPhQvjeXt0"
   },
   "source": [
    "**Query #4:**\n",
    "\n",
    "find top 10 famous tracks of ***Rihanna*** "
   ]
  },
  {
   "cell_type": "code",
   "execution_count": null,
   "metadata": {
    "colab": {
     "base_uri": "https://localhost:8080/"
    },
    "id": "D_npmdh1ec8y",
    "outputId": "884e4f23-17e4-422e-9a01-a968fe855f0b"
   },
   "outputs": [
    {
     "name": "stdout",
     "output_type": "stream",
     "text": [
      "+-------+--------------------+-----+\n",
      "| artist|               track|count|\n",
      "+-------+--------------------+-----+\n",
      "|Rihanna|                Work| 2646|\n",
      "|Rihanna|Only Girl (In the...| 1749|\n",
      "|Rihanna|We Found Love (fe...| 1575|\n",
      "|Rihanna|                 S&M| 1307|\n",
      "|Rihanna|            Rude Boy| 1303|\n",
      "|Rihanna|            Diamonds| 1224|\n",
      "|Rihanna|      Kiss it Better|  945|\n",
      "|Rihanna| Where Have You Been|  844|\n",
      "|Rihanna|Cheers (Drink to ...|  697|\n",
      "|Rihanna|           Needed Me|  679|\n",
      "+-------+--------------------+-----+\n",
      "\n"
     ]
    }
   ],
   "source": [
    "q4=listening_df.select('artist','track').filter(listening_df.artist=='Rihanna').groupby('artist','track').agg(count('*').alias('count')).orderBy(desc('count')).limit(10)\n",
    "q4.show()\n"
   ]
  },
  {
   "cell_type": "markdown",
   "metadata": {
    "id": "E6pgcH0p1ZXo"
   },
   "source": [
    "**Query #5:**\n",
    "\n",
    "find top 10 famous albums "
   ]
  },
  {
   "cell_type": "code",
   "execution_count": null,
   "metadata": {
    "colab": {
     "base_uri": "https://localhost:8080/"
    },
    "id": "c5YHm6yKenE7",
    "outputId": "a85e7362-c9ab-4b3b-9b88-55f153c7bcb6"
   },
   "outputs": [
    {
     "name": "stdout",
     "output_type": "stream",
     "text": [
      "+--------------------+--------------------+-----+\n",
      "|              artist|               album|count|\n",
      "+--------------------+--------------------+-----+\n",
      "|          Kanye West|   The Life Of Pablo|22310|\n",
      "|              The xx|                  xx|14195|\n",
      "|      Arctic Monkeys|                  AM|14090|\n",
      "|               alt-J|     An Awesome Wave|13635|\n",
      "|      Mumford & Sons|        Sigh No More|13543|\n",
      "|      Arctic Monkeys|Whatever People S...|12731|\n",
      "|            Bon Iver|            For Emma|11994|\n",
      "|              Grimes|          Art Angels|11655|\n",
      "|Florence + the Ma...|               Lungs|11362|\n",
      "|               Adele|                  21|11215|\n",
      "+--------------------+--------------------+-----+\n",
      "\n"
     ]
    }
   ],
   "source": [
    "q5=listening_df.select('artist','album').groupby('artist','album').agg(count('*').alias('count')).orderBy(desc('count')).limit(10)\n",
    "q5.show()\n"
   ]
  },
  {
   "cell_type": "markdown",
   "metadata": {
    "id": "YXev8HQ57bdq"
   },
   "source": [
    "# Task 4 :\n",
    "importing the ***genre.csv*** file:"
   ]
  },
  {
   "cell_type": "code",
   "execution_count": null,
   "metadata": {
    "id": "tpXSrYfu14PB"
   },
   "outputs": [],
   "source": [
    "genre_csv_path='/content/drive/MyDrive/dataset/genre.csv'\n",
    "genre_df=spark.read.format('csv').option('inferSchema',True).option('header',True).load(genre_csv_path)"
   ]
  },
  {
   "cell_type": "markdown",
   "metadata": {
    "id": "aCHSo36W9RcP"
   },
   "source": [
    "let's check the data"
   ]
  },
  {
   "cell_type": "code",
   "execution_count": null,
   "metadata": {
    "colab": {
     "base_uri": "https://localhost:8080/"
    },
    "id": "LJu4Ouz89O6_",
    "outputId": "c5e304a2-2041-4ed2-cb0d-e3de5b19950d"
   },
   "outputs": [
    {
     "name": "stdout",
     "output_type": "stream",
     "text": [
      "+--------------------+-----+\n",
      "|              artist|genre|\n",
      "+--------------------+-----+\n",
      "|                Muse| rock|\n",
      "|             Nirvana| rock|\n",
      "|            Bon Jovi| rock|\n",
      "|          The Police| rock|\n",
      "|                Kiss| rock|\n",
      "|       Guns N' Roses| rock|\n",
      "|         Rusted Root| rock|\n",
      "|Katrina and the W...|  pop|\n",
      "|         The Beatles| rock|\n",
      "|        Hall & Oates|  pop|\n",
      "|        Otis Redding| soul|\n",
      "|         Marvin Gaye| soul|\n",
      "|     The Cranberries| rock|\n",
      "|            Survivor| rock|\n",
      "|       Fleetwood Mac|blues|\n",
      "|           Radiohead| rock|\n",
      "|                Toto| rock|\n",
      "|                  U2| rock|\n",
      "|Creedence Clearwa...| rock|\n",
      "|                 REM| rock|\n",
      "+--------------------+-----+\n",
      "only showing top 20 rows\n",
      "\n"
     ]
    }
   ],
   "source": [
    "genre_df.show()"
   ]
  },
  {
   "cell_type": "code",
   "execution_count": null,
   "metadata": {
    "colab": {
     "base_uri": "https://localhost:8080/"
    },
    "id": "d58m32FCV1Sy",
    "outputId": "f14c4916-c3d5-43f6-efe9-2a6fa8a4e28e"
   },
   "outputs": [
    {
     "name": "stdout",
     "output_type": "stream",
     "text": [
      "+------------+-----------+--------------------+--------------------+--------------------+\n",
      "|      artist|    user_id|               track|               album|               genre|\n",
      "+------------+-----------+--------------------+--------------------+--------------------+\n",
      "|    Jessie J|000Silenced|           Price Tag|         Who You Are| Ariana Grande & ...|\n",
      "|    Jessie J|000Silenced|           Price Tag|         Who You Are| Jhene Aiko & Rixton|\n",
      "|    Jessie J|000Silenced|           Price Tag|         Who You Are| Nicki Minaj & Ar...|\n",
      "|    Jessie J|000Silenced|           Price Tag|         Who You Are|                 pop|\n",
      "|    Jessie J|000Silenced|Price Tag (Acoust...|           Price Tag| Ariana Grande & ...|\n",
      "|    Jessie J|000Silenced|Price Tag (Acoust...|           Price Tag| Jhene Aiko & Rixton|\n",
      "|    Jessie J|000Silenced|Price Tag (Acoust...|           Price Tag| Nicki Minaj & Ar...|\n",
      "|    Jessie J|000Silenced|Price Tag (Acoust...|           Price Tag|                 pop|\n",
      "|       Robyn|000Silenced|Be Mine! (Ballad ...|            Be Mine!|                 pop|\n",
      "|       Kelis|000Silenced|            Acapella|            Acapella|                 pop|\n",
      "|   The Tease|000Silenced|   I'm Not Invisible|   I'm Not Invisible|             hip hop|\n",
      "|    MSTRKRFT|000Silenced|Bounce (Feat NORE...|         Fist of God|          electronic|\n",
      "|     Rihanna|000Silenced|Don't Stop The Mu...|Addicted 2 Bassli...|                 SZA|\n",
      "|     Rihanna|000Silenced|Don't Stop The Mu...|Addicted 2 Bassli...| Paul McCartney &...|\n",
      "|     Rihanna|000Silenced|Don't Stop The Mu...|Addicted 2 Bassli...|          Kanye West|\n",
      "|     Rihanna|000Silenced|Don't Stop The Mu...|Addicted 2 Bassli...| Kanye West & Pau...|\n",
      "|     Rihanna|000Silenced|Don't Stop The Mu...|Addicted 2 Bassli...|                 pop|\n",
      "|   Meshuggah|000Silenced|               ObZen|               ObZen|               metal|\n",
      "|      Gojira|000Silenced|   Yama's Messengers|The Way of All Flesh|               metal|\n",
      "|Napalm Death|000Silenced|On the Brink of E...|Time Waits For No...|           grindcore|\n",
      "+------------+-----------+--------------------+--------------------+--------------------+\n",
      "only showing top 20 rows\n",
      "\n"
     ]
    }
   ],
   "source": [
    "data=listening_df.join(genre_df,how='inner',on=['artist'])\n",
    "data.show()"
   ]
  },
  {
   "cell_type": "markdown",
   "metadata": {
    "id": "72OpWX7F98qg"
   },
   "source": [
    "Let's inner join these two data frames"
   ]
  },
  {
   "cell_type": "markdown",
   "metadata": {
    "id": "yM_f5qILBNeI"
   },
   "source": [
    "**Query #6**\n",
    "\n",
    "find top 10 users who are fan of ***pop*** music"
   ]
  },
  {
   "cell_type": "code",
   "execution_count": null,
   "metadata": {
    "colab": {
     "base_uri": "https://localhost:8080/"
    },
    "id": "dognQVlxBi2n",
    "outputId": "4056f93e-a0b5-499a-accf-174b89469ae2"
   },
   "outputs": [
    {
     "name": "stdout",
     "output_type": "stream",
     "text": [
      "+---------------+-----+\n",
      "|        user_id|count|\n",
      "+---------------+-----+\n",
      "|        01Green|  496|\n",
      "|      momousagi|  400|\n",
      "|          mrpsb|  400|\n",
      "|   BlueKnockOut|  378|\n",
      "|    musicboy80s|  376|\n",
      "|  incultojurgis|  374|\n",
      "| ElektricOrchid|  370|\n",
      "|foreign_fanatic|  350|\n",
      "|   Kevin_Soutar|  346|\n",
      "|  landrover2171|  301|\n",
      "+---------------+-----+\n",
      "\n"
     ]
    }
   ],
   "source": [
    "q6=data.select('user_id').filter(data.genre=='pop').groupby('user_id').agg(count('*').alias('count')).orderBy(desc('count')).limit(10)\n",
    "q6.show()"
   ]
  },
  {
   "cell_type": "markdown",
   "metadata": {
    "id": "63quzy7t-zb7"
   },
   "source": [
    "**Query #7**\n",
    "\n",
    "find top 10 famous genres"
   ]
  },
  {
   "cell_type": "code",
   "execution_count": null,
   "metadata": {
    "colab": {
     "base_uri": "https://localhost:8080/"
    },
    "id": "aDFcoPPk-Rhf",
    "outputId": "82f912b0-5dd8-4809-e86d-728cf2582092"
   },
   "outputs": [
    {
     "name": "stdout",
     "output_type": "stream",
     "text": [
      "+----------+-------+\n",
      "|     genre|  count|\n",
      "+----------+-------+\n",
      "|      rock|2691934|\n",
      "|       pop|1544747|\n",
      "|electronic| 551509|\n",
      "|   hip hop| 532984|\n",
      "|      folk| 438174|\n",
      "|indie rock| 431439|\n",
      "|      punk| 380915|\n",
      "|       r&b| 344101|\n",
      "|     metal| 208107|\n",
      "|     indie| 206726|\n",
      "+----------+-------+\n",
      "\n"
     ]
    }
   ],
   "source": [
    "q7=data.select('genre').groupby('genre').agg(count('*').alias('count')).orderBy(desc('count')).limit(10)\n",
    "q7.show()\n"
   ]
  },
  {
   "cell_type": "markdown",
   "metadata": {
    "id": "hrZOAWVgLMZo"
   },
   "source": [
    "# Task 5:\n",
    "**Query #8**\n",
    "\n",
    "find out each user favourite genre"
   ]
  },
  {
   "cell_type": "code",
   "execution_count": null,
   "metadata": {
    "colab": {
     "base_uri": "https://localhost:8080/"
    },
    "id": "H3AWxlkbLvCg",
    "outputId": "c0c2a53c-0b84-4665-fbe1-0d330e2907b5"
   },
   "outputs": [
    {
     "name": "stdout",
     "output_type": "stream",
     "text": [
      "+-------+--------------------+-----+\n",
      "|user_id|               genre|count|\n",
      "+-------+--------------------+-----+\n",
      "| --Seph|         folktronica|    2|\n",
      "| --Seph|          Nils Frahm|    1|\n",
      "| --Seph|               indie|    3|\n",
      "| --Seph| Boston Pops Orch...|    1|\n",
      "| --Seph|   progressive house|    1|\n",
      "| --Seph|                folk|   10|\n",
      "| --Seph|               Ruben|    4|\n",
      "| --Seph|   Alesso Feat Hurts|    1|\n",
      "| --Seph|               dance|    1|\n",
      "| --Seph|           indie pop|    1|\n",
      "| --Seph|          electropop|    1|\n",
      "| --Seph| Tamás Vásáry & Y...|    1|\n",
      "| --Seph|           classical|   31|\n",
      "| --Seph|  progressive trance|    1|\n",
      "| --Seph|          Thom Yorke|    2|\n",
      "| --Seph|     Jennifer Vyvyan|    1|\n",
      "| --Seph|               house|    3|\n",
      "| --Seph| The Ambrosian Si...|    1|\n",
      "| --Seph| Sir Colin Davis ...|    1|\n",
      "| --Seph|                soul|    1|\n",
      "+-------+--------------------+-----+\n",
      "only showing top 20 rows\n",
      "\n"
     ]
    }
   ],
   "source": [
    "q8_1=data.select('user_id','genre').groupby('user_id','genre').agg(count('*').alias('count')).orderBy('user_id')\n",
    "q8_1.show()"
   ]
  },
  {
   "cell_type": "code",
   "execution_count": null,
   "metadata": {
    "colab": {
     "base_uri": "https://localhost:8080/"
    },
    "id": "Soy2bMxQN-Ub",
    "outputId": "96e15378-d4d8-439c-9f36-4a2f4b2f3c4b"
   },
   "outputs": [
    {
     "name": "stdout",
     "output_type": "stream",
     "text": [
      "+---------------+-----------------+\n",
      "|        user_id|            genre|\n",
      "+---------------+-----------------+\n",
      "|        -Gemma-|      british pop|\n",
      "|        247flix|         synthpop|\n",
      "|     A3sahaettr|            metal|\n",
      "|        AYFBlog|       indie rock|\n",
      "|  AdamMcSpaddam|             rock|\n",
      "|        Alukarl|      death metal|\n",
      "|       Ambalina|              pop|\n",
      "|        AndyEgg|             rock|\n",
      "| AngerisaGift14|             rock|\n",
      "|      Anndddyyy|             rock|\n",
      "|     BasilBrush|             rock|\n",
      "|     BernieLick|             rock|\n",
      "|      Big_Tiger|            indie|\n",
      "|          Birks|singer-songwriter|\n",
      "|         BolaJA|             rock|\n",
      "|        Boone92|        metalcore|\n",
      "|CameronWhittall|              pop|\n",
      "|        Ceolmor|       electronic|\n",
      "| CheeseMonkey91|              emo|\n",
      "|  Chilled-Lemon|             rock|\n",
      "+---------------+-----------------+\n",
      "only showing top 20 rows\n",
      "\n"
     ]
    }
   ],
   "source": [
    "q8_2=q8_1.groupby('user_id').agg(max(struct(col('count'),col('genre'))).alias('max')).select(col('user_id'),col('max.genre'))\n",
    "q8_2.show()"
   ]
  },
  {
   "cell_type": "markdown",
   "metadata": {
    "id": "6oIyhOHkCDuv"
   },
   "source": [
    "**Query #9**\n",
    "\n",
    "find out how many pop,rock,metal and hip hop singers we have\n",
    "\n",
    "and then visulize it using bar chart "
   ]
  },
  {
   "cell_type": "code",
   "execution_count": null,
   "metadata": {
    "colab": {
     "base_uri": "https://localhost:8080/"
    },
    "id": "7_lEjNKVCDJv",
    "outputId": "66b64d19-7051-44b0-cef7-631a0bfdf297"
   },
   "outputs": [
    {
     "name": "stdout",
     "output_type": "stream",
     "text": [
      "+-------+-----+\n",
      "|  genre|count|\n",
      "+-------+-----+\n",
      "|    pop| 6960|\n",
      "|hip hop| 4288|\n",
      "|  metal| 1854|\n",
      "|   rock| 9066|\n",
      "+-------+-----+\n",
      "\n"
     ]
    }
   ],
   "source": [
    "q9=genre_df.select(\"genre\").filter((col('genre')=='pop')|(col('genre')=='rock')|(col('genre')=='metal')|(col('genre')=='hip hop')).groupby('genre').agg(count('genre').alias('count'))\n",
    "q9.show()"
   ]
  },
  {
   "cell_type": "markdown",
   "metadata": {
    "id": "h0h2SSk8InMH"
   },
   "source": [
    "Now, let's visualize the results using ***matplotlib***"
   ]
  },
  {
   "cell_type": "code",
   "execution_count": null,
   "metadata": {
    "colab": {
     "base_uri": "https://localhost:8080/"
    },
    "id": "J-n8gOC0Imj5",
    "outputId": "75a7eef4-3717-46eb-f694-62989a7d2689"
   },
   "outputs": [
    {
     "data": {
      "text/plain": [
       "[Row(genre='pop', count=6960),\n",
       " Row(genre='hip hop', count=4288),\n",
       " Row(genre='metal', count=1854),\n",
       " Row(genre='rock', count=9066)]"
      ]
     },
     "execution_count": 58,
     "metadata": {
      "tags": []
     },
     "output_type": "execute_result"
    }
   ],
   "source": [
    "q9.collect()"
   ]
  },
  {
   "cell_type": "code",
   "execution_count": null,
   "metadata": {
    "id": "CMigHLrEQgKv"
   },
   "outputs": [],
   "source": [
    "q9_list=q9.collect()"
   ]
  },
  {
   "cell_type": "code",
   "execution_count": null,
   "metadata": {
    "id": "FYLE4Mbu_Lbu"
   },
   "outputs": [],
   "source": [
    "labels=[row['genre'] for row in q9_list]\n",
    "counts=[row['count'] for row in q9_list]"
   ]
  },
  {
   "cell_type": "markdown",
   "metadata": {
    "id": "1iDrvEwYQ4AE"
   },
   "source": [
    "now lets visualize these two lists using a bar chart"
   ]
  },
  {
   "cell_type": "code",
   "execution_count": null,
   "metadata": {
    "colab": {
     "base_uri": "https://localhost:8080/",
     "height": 282
    },
    "id": "XOOq1U9BQjKI",
    "outputId": "82644992-59b4-42b9-e6ec-303eae992605"
   },
   "outputs": [
    {
     "data": {
      "text/plain": [
       "<BarContainer object of 4 artists>"
      ]
     },
     "execution_count": 62,
     "metadata": {
      "tags": []
     },
     "output_type": "execute_result"
    },
    {
     "data": {
      "image/png": "[encoded data removed]",
      "text/plain": [
       "<Figure size 432x288 with 1 Axes>"
      ]
     },
     "metadata": {
      "needs_background": "light",
      "tags": []
     },
     "output_type": "display_data"
    }
   ],
   "source": [
    "plts.bar(labels,counts)"
   ]
  }
 ],
 "metadata": {
  "colab": {
   "collapsed_sections": [],
   "name": "The_Notebook.ipynb",
   "provenance": [],
   "toc_visible": true
  },
  "kernelspec": {
   "display_name": "Python 3",
   "language": "python",
   "name": "python3"
  },
  "language_info": {
   "codemirror_mode": {
    "name": "ipython",
    "version": 3
   },
   "file_extension": ".py",
   "mimetype": "text/x-python",
   "name": "python",
   "nbconvert_exporter": "python",
   "pygments_lexer": "ipython3",
   "version": "3.8.8"
  }
 },
 "nbformat": 4,
 "nbformat_minor": 1
}
